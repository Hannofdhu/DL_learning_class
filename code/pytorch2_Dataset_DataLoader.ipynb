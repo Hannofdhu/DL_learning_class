{
 "cells": [
  {
   "cell_type": "markdown",
   "id": "4669157c",
   "metadata": {},
   "source": [
    "A **custom Dataset class** must implement three functions:__init__,__len__,and__getitem__."
   ]
  },
  {
   "cell_type": "code",
   "execution_count": 3,
   "id": "64eeabe5",
   "metadata": {},
   "outputs": [],
   "source": [
    "from torch.utils.data import Dataset\n",
    "class CustomDataset(Dataset):\n",
    "    def __init__(self):\n",
    "        #储存文件路径\n",
    "        return\n",
    "    def __len__(self):\n",
    "        #数据长度\n",
    "        return\n",
    "    def __getitem__(self,idx):\n",
    "        #给出id提供数据和标签\n",
    "        return\n",
    "    "
   ]
  },
  {
   "cell_type": "markdown",
   "id": "1905c455",
   "metadata": {},
   "source": [
    "将minibatch传入模型中，每个训练周期还会将数据打乱，降低模型过拟合。还可以调用到python的多进程multiprocessing。"
   ]
  },
  {
   "cell_type": "code",
   "execution_count": null,
   "id": "3faceb6a",
   "metadata": {},
   "outputs": [],
   "source": [
    "from torch.utils.data import DataLoader\n",
    "#Dataset对象放到DataLoader中\n",
    "train_dataloader = \n",
    "DataLoader(training_data,batch_size=64,shuffle=True)\n",
    "#一般test不需要shuffle\n",
    "test_dataloader = \n",
    "DataLoader(test_data,batch_size=64,shuffle=True)"
   ]
  },
  {
   "cell_type": "code",
   "execution_count": 7,
   "id": "cecd3c08",
   "metadata": {},
   "outputs": [],
   "source": [
    "from torch.utils.data import DataLoader\n",
    "DataLoader??\n",
    "\"\"\"\n",
    "默认用map-style而不是IterableDataset\n",
    "__init__的参数：num_workers:进程的数量，collate_fn:聚集函数\n",
    "对batch进行后处理，drop_last。\n",
    "\"\"\""
   ]
  },
  {
   "cell_type": "code",
   "execution_count": 6,
   "id": "94099f99",
   "metadata": {},
   "outputs": [
    {
     "name": "stdout",
     "output_type": "stream",
     "text": [
      "1.10.2\n"
     ]
    }
   ],
   "source": [
    "import torch\n",
    "print(torch.__version__)"
   ]
  },
  {
   "cell_type": "code",
   "execution_count": null,
   "id": "2a5c0ea4",
   "metadata": {},
   "outputs": [],
   "source": []
  }
 ],
 "metadata": {
  "kernelspec": {
   "display_name": "Python 3 (ipykernel)",
   "language": "python",
   "name": "python3"
  },
  "language_info": {
   "codemirror_mode": {
    "name": "ipython",
    "version": 3
   },
   "file_extension": ".py",
   "mimetype": "text/x-python",
   "name": "python",
   "nbconvert_exporter": "python",
   "pygments_lexer": "ipython3",
   "version": "3.8.12"
  },
  "toc": {
   "base_numbering": 1,
   "nav_menu": {},
   "number_sections": true,
   "sideBar": true,
   "skip_h1_title": false,
   "title_cell": "Table of Contents",
   "title_sidebar": "Contents",
   "toc_cell": false,
   "toc_position": {},
   "toc_section_display": true,
   "toc_window_display": false
  }
 },
 "nbformat": 4,
 "nbformat_minor": 5
}
