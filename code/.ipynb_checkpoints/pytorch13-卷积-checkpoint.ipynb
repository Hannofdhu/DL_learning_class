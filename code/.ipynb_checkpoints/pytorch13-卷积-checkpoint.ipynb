{
 "cells": [
  {
   "cell_type": "markdown",
   "id": "deded947",
   "metadata": {},
   "source": [
    "# Conv2d"
   ]
  },
  {
   "cell_type": "markdown",
   "id": "34206627",
   "metadata": {},
   "source": [
    "## torch.nn.Conv2d"
   ]
  },
  {
   "cell_type": "code",
   "execution_count": 1,
   "id": "334ea9fa",
   "metadata": {},
   "outputs": [
    {
     "name": "stdout",
     "output_type": "stream",
     "text": [
      "torch.Size([6, 3, 3, 3])\n",
      "torch.Size([1, 3, 4, 4])\n",
      "torch.Size([1, 6, 2, 2])\n"
     ]
    }
   ],
   "source": [
    "import torch\n",
    "import torch.nn as nn\n",
    "import torch.nn.functional as F\n",
    "in_channels = 3\n",
    "out_channels = 6\n",
    "kernel_size = 3\n",
    "batch_size = 1\n",
    "bias = False\n",
    "input_size = [batch_size,in_channels,4,4]#通道、高、宽\n",
    "conv_layer = torch.nn.Conv2d(in_channels,\\\n",
    "            out_channels,kernel_size,bias=False)\n",
    "input_feature_map = torch.randn(input_size)\n",
    "output_feature_map = conv_layer(input_feature_map)\n",
    "print(conv_layer.weight.shape)#6*3*3*3(out_channels,in_channels,height,width)\n",
    "print(input_feature_map.shape)\n",
    "print(output_feature_map.shape)"
   ]
  },
  {
   "cell_type": "markdown",
   "id": "7a6b4a2f",
   "metadata": {},
   "source": [
    "## torch.nn.functional.conv2d"
   ]
  },
  {
   "cell_type": "code",
   "execution_count": 2,
   "id": "f6172c6a",
   "metadata": {},
   "outputs": [
    {
     "name": "stdout",
     "output_type": "stream",
     "text": [
      "True\n"
     ]
    }
   ],
   "source": [
    "output_feature_map1 = F.conv2d(input_feature_map,\\\n",
    "                      conv_layer.weight)\n",
    "print(torch.allclose(output_feature_map,\\\n",
    "                    output_feature_map1))"
   ]
  },
  {
   "cell_type": "markdown",
   "id": "6988a843",
   "metadata": {},
   "source": [
    "# Transpose Convolution（反卷积-Deconvolution）"
   ]
  },
  {
   "cell_type": "code",
   "execution_count": 4,
   "id": "e09ba8a0",
   "metadata": {},
   "outputs": [
    {
     "name": "stdout",
     "output_type": "stream",
     "text": [
      "tensor([[-0.8894],\n",
      "        [-0.7435],\n",
      "        [-0.7278],\n",
      "        [ 3.2295]])\n",
      "tensor([[[[-0.8894, -0.7435],\n",
      "          [-0.7278,  3.2295]]]])\n",
      "tensor([[ 0.4447,  0.2788,  0.7479,  0.6902],\n",
      "        [ 0.3124, -2.2003,  0.3181, -3.2531],\n",
      "        [-0.1973,  1.0964,  2.8018,  1.2500],\n",
      "        [-0.1270,  1.7263, -5.0211, -0.6162]])\n",
      "tensor([[[[ 0.4447,  0.2788,  0.7479,  0.6902],\n",
      "          [ 0.3124, -2.2003,  0.3181, -3.2531],\n",
      "          [-0.1973,  1.0964,  2.8018,  1.2500],\n",
      "          [-0.1270,  1.7263, -5.0211, -0.6162]]]])\n"
     ]
    }
   ],
   "source": [
    "#对kernel展开进行卷积并推导出转置卷积,不考虑batch,channel,padding,stride=1\n",
    "#将input展开成height*width的向量；\n",
    "#kernel也是，只不过kernel要做一定的填充\n",
    "import torch\n",
    "import torch.nn.functional as F\n",
    "def get_kernel_matrix(kernel,input_size,stride=1):\n",
    "    \"\"\"基于kernel和输入特征图的大小得到填充拉直后的kernel堆叠矩阵\"\"\"\n",
    "    kernel_h,kernel_w = kernel.shape\n",
    "    input_h,input_w = input_size\n",
    "    num_out_feat_map = (input_h-kernel_h+1)*(input_w-kernel_w+1)\n",
    "    #结果矩阵：输出特征图元素个数*输入特征图元素个数\n",
    "    result = torch.zeros((num_out_feat_map,input_h*input_w))\n",
    "    count = 0\n",
    "    for i in range(0,input_h-kernel_h+1,1):\n",
    "        for j in range(0,input_w-kernel_w+1,1):\n",
    "            #F.pad(kernel,(左，右，上，下))\n",
    "            padded_kernel = F.pad(kernel,(j,input_w-kernel_w-j,i,input_h-kernel_h-i)).flatten()\n",
    "            #result的第count行是flatten后的kernel\n",
    "            result[count] = padded_kernel\n",
    "            count+=1\n",
    "    return result\n",
    "\n",
    "#测试1:验证二维卷积\n",
    "kernel = torch.randn(3,3)\n",
    "input = torch.randn(4,4)\n",
    "kernel_matrix = get_kernel_matrix(kernel,input.shape)\n",
    "#(2*2,4*4) 2*2是卷积的次数，4*4是input元素个数\n",
    "kernel_matrix.shape\n",
    "#通过矩阵相乘计算卷积\n",
    "mm_conv2d_output = kernel_matrix @ input.reshape((-1,1))\n",
    "#API\n",
    "pytorch_conv2d_output = F.conv2d(input.unsqueeze(0).unsqueeze(0),kernel.unsqueeze(0).unsqueeze(0))\n",
    "print(mm_conv2d_output)\n",
    "print(pytorch_conv2d_output)#2*2\n",
    "\n",
    "#测试2:验证二维转置卷积\n",
    "\"\"\"希望对输入特征图进行上采样，比如把pytorch_conv2d_output从2*2变成4*4\"\"\"\n",
    "#1.转置kernel_matrix，根据测试1，变成（16，4）\n",
    "#2.拉直feature_map_output，变成（4，1）\n",
    "#4.相乘，变成（16，1），则2*2特征图变成4*4特征图(和input一样)\n",
    "mm_transposed_conv2d_output = kernel_matrix.transpose\\\n",
    "                    (-1,-2) @ mm_conv2d_output\n",
    "\n",
    "    #用torch.nn.functional.conv_transpose2d试试\n",
    "pytorch_transposed_conv2d_output = F.conv_transpose2d(pytorch_conv2d_output,kernel.unsqueeze(0).unsqueeze(0))\n",
    "print(mm_transposed_conv2d_output.reshape(4,4))\n",
    "print(pytorch_transposed_conv2d_output)"
   ]
  },
  {
   "cell_type": "markdown",
   "id": "ddff641d",
   "metadata": {},
   "source": [
    "# Dilation"
   ]
  },
  {
   "cell_type": "markdown",
   "id": "028c7852",
   "metadata": {},
   "source": [
    "增大了dilation，在运算量不变的情况下，增大感受野的面积"
   ]
  },
  {
   "cell_type": "code",
   "execution_count": 9,
   "id": "f1b9c7a5",
   "metadata": {},
   "outputs": [
    {
     "name": "stdout",
     "output_type": "stream",
     "text": [
      "tensor([[ 0.9827, -0.8408, -0.4233,  0.9223, -1.8815, -0.0126, -1.1389],\n",
      "        [-0.2633, -0.5515,  0.1873, -0.6253,  0.5435, -1.4572,  2.6181],\n",
      "        [-0.1033,  0.8207, -0.6938, -0.6990, -0.5545, -0.1187,  1.5722],\n",
      "        [ 0.1442, -1.1433, -0.6582,  0.2229, -0.2705, -1.4895,  0.7832],\n",
      "        [-1.9130,  0.9422,  1.7216,  0.3372, -0.5153, -0.5999, -0.8257],\n",
      "        [ 0.9516, -0.0952,  0.0487,  0.6206,  0.5554,  1.1045, -0.9288],\n",
      "        [ 0.3716,  1.6652,  2.0316,  1.1227, -0.8962, -2.5891, -0.4903]])\n",
      "tensor([[ 0.9827, -0.8408, -0.4233],\n",
      "        [-0.2633, -0.5515,  0.1873],\n",
      "        [-0.1033,  0.8207, -0.6938]])\n",
      "tensor([[ 0.9827, -0.4233, -1.8815],\n",
      "        [-0.1033, -0.6938, -0.5545],\n",
      "        [-1.9130,  1.7216, -0.5153]])\n"
     ]
    }
   ],
   "source": [
    "a = torch.randn(7,7)\n",
    "#假设kernel_size=3,dilation=1则第一次进行卷积的区域如下：\n",
    "region_one = a[0:3,0:3]\n",
    "#若dilation=2\n",
    "region_two = a[0:5:2,0:5:2]\n",
    "print(a)\n",
    "print(region_one)\n",
    "print(region_two)"
   ]
  },
  {
   "cell_type": "markdown",
   "id": "50a42cd0",
   "metadata": {},
   "source": [
    "# Groups"
   ]
  },
  {
   "cell_type": "code",
   "execution_count": null,
   "id": "a9b7111d",
   "metadata": {},
   "outputs": [],
   "source": [
    "in_channel,out_channel = 2,4\n",
    "#两组卷积\n",
    "groups = 2 \n",
    "#一组有两个卷积核，两组有4个，减半了，参数数目减半\n",
    "#引入假设（归纳偏置）：不需要考虑通道间的关系（通道融合并不充分）\n",
    "sub_in_channel,sub_out_channel = 1,2"
   ]
  }
 ],
 "metadata": {
  "kernelspec": {
   "display_name": "Python 3 (ipykernel)",
   "language": "python",
   "name": "python3"
  },
  "language_info": {
   "codemirror_mode": {
    "name": "ipython",
    "version": 3
   },
   "file_extension": ".py",
   "mimetype": "text/x-python",
   "name": "python",
   "nbconvert_exporter": "python",
   "pygments_lexer": "ipython3",
   "version": "3.8.12"
  },
  "toc": {
   "base_numbering": 1,
   "nav_menu": {},
   "number_sections": true,
   "sideBar": true,
   "skip_h1_title": false,
   "title_cell": "Table of Contents",
   "title_sidebar": "Contents",
   "toc_cell": false,
   "toc_position": {},
   "toc_section_display": true,
   "toc_window_display": false
  }
 },
 "nbformat": 4,
 "nbformat_minor": 5
}
