{
 "cells": [
  {
   "cell_type": "code",
   "execution_count": 1,
   "id": "340bf293",
   "metadata": {},
   "outputs": [],
   "source": [
    "import torch \n",
    "import numpy as np"
   ]
  },
  {
   "cell_type": "code",
   "execution_count": 5,
   "id": "acce2d1c",
   "metadata": {},
   "outputs": [
    {
     "data": {
      "text/plain": [
       "torch.float32"
      ]
     },
     "execution_count": 5,
     "metadata": {},
     "output_type": "execute_result"
    }
   ],
   "source": [
    "data = [[1.,2.],[2.,4.]]\n",
    "b = torch.tensor(data)\n",
    "b.dtype"
   ]
  },
  {
   "cell_type": "code",
   "execution_count": 8,
   "id": "cc9ecdb8",
   "metadata": {},
   "outputs": [
    {
     "data": {
      "text/plain": [
       "torch.float64"
      ]
     },
     "execution_count": 8,
     "metadata": {},
     "output_type": "execute_result"
    }
   ],
   "source": [
    "data2 = np.random.normal((2,3))\n",
    "a = torch.tensor(data2)\n",
    "a.dtype#默认64"
   ]
  },
  {
   "cell_type": "code",
   "execution_count": 13,
   "id": "74697b3c",
   "metadata": {},
   "outputs": [
    {
     "data": {
      "text/plain": [
       "tensor([0.0022, 0.9615], dtype=torch.float64)"
      ]
     },
     "execution_count": 13,
     "metadata": {},
     "output_type": "execute_result"
    }
   ],
   "source": [
    "c = torch.ones_like(a)\n",
    "torch.zeros_like(a)\n",
    "torch.rand_like(a)"
   ]
  },
  {
   "cell_type": "code",
   "execution_count": 15,
   "id": "1443ade6",
   "metadata": {},
   "outputs": [
    {
     "data": {
      "text/plain": [
       "tensor([[0.1480, 0.3900],\n",
       "        [0.2718, 0.2458]])"
      ]
     },
     "execution_count": 15,
     "metadata": {},
     "output_type": "execute_result"
    }
   ],
   "source": [
    "torch.rand((2,2))"
   ]
  },
  {
   "cell_type": "code",
   "execution_count": 17,
   "id": "efcedd39",
   "metadata": {},
   "outputs": [
    {
     "data": {
      "text/plain": [
       "tensor([[0.5731, 0.5997],\n",
       "        [0.3478, 0.9793]])"
      ]
     },
     "execution_count": 17,
     "metadata": {},
     "output_type": "execute_result"
    }
   ],
   "source": [
    "torch.rand([2,2])"
   ]
  },
  {
   "cell_type": "code",
   "execution_count": 20,
   "id": "9b597aaf",
   "metadata": {},
   "outputs": [
    {
     "data": {
      "text/plain": [
       "torch.float32"
      ]
     },
     "execution_count": 20,
     "metadata": {},
     "output_type": "execute_result"
    }
   ],
   "source": [
    "shape = (2,3,)\n",
    "ones_sh = torch.ones(shape)\n",
    "ones_sh.dtype"
   ]
  },
  {
   "cell_type": "code",
   "execution_count": 22,
   "id": "0d3f6760",
   "metadata": {},
   "outputs": [
    {
     "data": {
      "text/plain": [
       "device(type='cpu')"
      ]
     },
     "execution_count": 22,
     "metadata": {},
     "output_type": "execute_result"
    }
   ],
   "source": [
    "ones_sh.device"
   ]
  },
  {
   "cell_type": "markdown",
   "id": "faa3f722",
   "metadata": {},
   "source": [
    "Tensor的操作"
   ]
  },
  {
   "cell_type": "code",
   "execution_count": 24,
   "id": "de3561d7",
   "metadata": {},
   "outputs": [],
   "source": [
    "if torch.cuda.is_available():\n",
    "    tensor = tensor.to('cuda')"
   ]
  },
  {
   "cell_type": "code",
   "execution_count": 26,
   "id": "844afe02",
   "metadata": {},
   "outputs": [
    {
     "data": {
      "text/plain": [
       "True"
      ]
     },
     "execution_count": 26,
     "metadata": {},
     "output_type": "execute_result"
    }
   ],
   "source": [
    "torch.is_tensor(a)"
   ]
  },
  {
   "cell_type": "code",
   "execution_count": 28,
   "id": "ceab19ac",
   "metadata": {},
   "outputs": [
    {
     "data": {
      "text/plain": [
       "False"
      ]
     },
     "execution_count": 28,
     "metadata": {},
     "output_type": "execute_result"
    }
   ],
   "source": [
    "torch.is_complex(a)#复数"
   ]
  },
  {
   "cell_type": "code",
   "execution_count": 30,
   "id": "e01e28b3",
   "metadata": {},
   "outputs": [
    {
     "data": {
      "text/plain": [
       "True"
      ]
     },
     "execution_count": 30,
     "metadata": {},
     "output_type": "execute_result"
    }
   ],
   "source": [
    "a = torch.tensor(1.0)\n",
    "torch.is_nonzero(a)#非零标量"
   ]
  },
  {
   "cell_type": "code",
   "execution_count": 35,
   "id": "55a8475b",
   "metadata": {},
   "outputs": [
    {
     "data": {
      "text/plain": [
       "12"
      ]
     },
     "execution_count": 35,
     "metadata": {},
     "output_type": "execute_result"
    }
   ],
   "source": [
    "#返回所有元素的数目\n",
    "shape = (3,4)\n",
    "a = torch.ones(shape)\n",
    "torch.numel(a)"
   ]
  },
  {
   "cell_type": "markdown",
   "id": "5561376e",
   "metadata": {},
   "source": [
    "requires_grad:是否需要梯度运算"
   ]
  },
  {
   "cell_type": "code",
   "execution_count": 37,
   "id": "07a78006",
   "metadata": {},
   "outputs": [
    {
     "data": {
      "text/plain": [
       "torch.float32"
      ]
     },
     "execution_count": 37,
     "metadata": {},
     "output_type": "execute_result"
    }
   ],
   "source": [
    "torch.tensor([1.2,3]).dtype"
   ]
  },
  {
   "cell_type": "code",
   "execution_count": 42,
   "id": "e3088688",
   "metadata": {},
   "outputs": [
    {
     "data": {
      "text/plain": [
       "torch.float64"
      ]
     },
     "execution_count": 42,
     "metadata": {},
     "output_type": "execute_result"
    }
   ],
   "source": [
    "torch.set_default_tensor_type(torch.DoubleTensor)\n",
    "torch.tensor([1.2,3]).dtype"
   ]
  },
  {
   "cell_type": "code",
   "execution_count": 44,
   "id": "64db5c13",
   "metadata": {},
   "outputs": [
    {
     "data": {
      "text/plain": [
       "tensor([0, 1, 2, 3, 4])"
      ]
     },
     "execution_count": 44,
     "metadata": {},
     "output_type": "execute_result"
    }
   ],
   "source": [
    "torch.arange(5)"
   ]
  },
  {
   "cell_type": "code",
   "execution_count": 47,
   "id": "b2e73a4e",
   "metadata": {},
   "outputs": [
    {
     "data": {
      "text/plain": [
       "tensor([5, 6, 7, 8, 9])"
      ]
     },
     "execution_count": 47,
     "metadata": {},
     "output_type": "execute_result"
    }
   ],
   "source": [
    "torch.arange(start=5,end = 10,step=1)"
   ]
  },
  {
   "cell_type": "code",
   "execution_count": 54,
   "id": "81bb5d58",
   "metadata": {},
   "outputs": [
    {
     "name": "stdout",
     "output_type": "stream",
     "text": [
      "tensor([ 5.,  6.,  7.,  8.,  9., 10.])\n"
     ]
    },
    {
     "name": "stderr",
     "output_type": "stream",
     "text": [
      "/var/folders/fh/fmzjtz0x3qx3gk88bx20vw3w0000gn/T/ipykernel_48887/1411115308.py:2: UserWarning: torch.range is deprecated and will be removed in a future release because its behavior is inconsistent with Python's range builtin. Instead, use torch.arange, which produces values in [start, end).\n",
      "  a = torch.range(start=5,end=10,step=1)\n"
     ]
    },
    {
     "data": {
      "text/plain": [
       "torch.float64"
      ]
     },
     "execution_count": 54,
     "metadata": {},
     "output_type": "execute_result"
    }
   ],
   "source": [
    "#比arange长一个单位\n",
    "a = torch.range(start=5,end=10,step=1)\n",
    "print(a)\n",
    "a.dtype#数据默认float"
   ]
  },
  {
   "cell_type": "code",
   "execution_count": 55,
   "id": "179b543f",
   "metadata": {},
   "outputs": [
    {
     "name": "stdout",
     "output_type": "stream",
     "text": [
      "epoch:0\n",
      "epoch:1\n",
      "epoch:2\n",
      "epoch:3\n",
      "epoch:4\n",
      "epoch:5\n",
      "epoch:6\n",
      "epoch:7\n",
      "epoch:8\n",
      "epoch:9\n"
     ]
    }
   ],
   "source": [
    "for i in torch.arange(10):\n",
    "    print(f'epoch:{i}')"
   ]
  },
  {
   "cell_type": "code",
   "execution_count": 57,
   "id": "c1444fcd",
   "metadata": {},
   "outputs": [
    {
     "data": {
      "text/plain": [
       "tensor([[1., 0.],\n",
       "        [0., 1.],\n",
       "        [0., 0.]])"
      ]
     },
     "execution_count": 57,
     "metadata": {},
     "output_type": "execute_result"
    }
   ],
   "source": [
    "#单位矩阵\n",
    "torch.eye(3,2)"
   ]
  },
  {
   "cell_type": "code",
   "execution_count": 58,
   "id": "5ed26852",
   "metadata": {},
   "outputs": [
    {
     "data": {
      "text/plain": [
       "tensor([[10, 10],\n",
       "        [10, 10]])"
      ]
     },
     "execution_count": 58,
     "metadata": {},
     "output_type": "execute_result"
    }
   ],
   "source": [
    "torch.full([2,2],10)"
   ]
  },
  {
   "cell_type": "code",
   "execution_count": 61,
   "id": "119b03b5",
   "metadata": {},
   "outputs": [
    {
     "data": {
      "text/plain": [
       "tensor([[10., 10.],\n",
       "        [10., 10.]])"
      ]
     },
     "execution_count": 61,
     "metadata": {},
     "output_type": "execute_result"
    }
   ],
   "source": [
    "torch.ones([2,2])*10"
   ]
  },
  {
   "cell_type": "markdown",
   "id": "04e5fdbc",
   "metadata": {},
   "source": [
    "索引，切片，聚合，旋转"
   ]
  },
  {
   "cell_type": "code",
   "execution_count": 67,
   "id": "baaf3f86",
   "metadata": {},
   "outputs": [
    {
     "data": {
      "text/plain": [
       "tensor([[0.4571, 0.8056],\n",
       "        [0.2374, 0.9823],\n",
       "        [0.8337, 0.3351],\n",
       "        [0.2019, 0.2703],\n",
       "        [0.0841, 0.0594]])"
      ]
     },
     "execution_count": 67,
     "metadata": {},
     "output_type": "execute_result"
    }
   ],
   "source": [
    "a = torch.rand([2,2])\n",
    "b = torch.rand([3,2])\n",
    "c = torch.cat([a,b],dim=0)\n",
    "c"
   ]
  },
  {
   "cell_type": "code",
   "execution_count": 65,
   "id": "e2310825",
   "metadata": {},
   "outputs": [
    {
     "data": {
      "text/plain": [
       "tensor([[0.4204, 0.5254, 0.3430, 0.7837, 0.2074],\n",
       "        [0.2275, 0.8396, 0.5985, 0.1481, 0.1372]])"
      ]
     },
     "execution_count": 65,
     "metadata": {},
     "output_type": "execute_result"
    }
   ],
   "source": [
    "a = torch.rand([2,2])\n",
    "b = torch.rand([2,3])\n",
    "c = torch.cat([a,b],dim=1)\n",
    "c"
   ]
  },
  {
   "cell_type": "markdown",
   "id": "ccaeb08f",
   "metadata": {},
   "source": [
    "scatter_函数(下划线代表原地操作)  没懂"
   ]
  },
  {
   "cell_type": "code",
   "execution_count": 3,
   "id": "286833cc",
   "metadata": {},
   "outputs": [
    {
     "data": {
      "text/plain": [
       "tensor([[1, 0, 0, 4, 0],\n",
       "        [0, 2, 0, 0, 0],\n",
       "        [0, 0, 3, 0, 0]])"
      ]
     },
     "execution_count": 3,
     "metadata": {},
     "output_type": "execute_result"
    }
   ],
   "source": [
    "import torch\n",
    "src = torch.arange(1,11).reshape((2,5))\n",
    "index = torch.tensor([[0,1,2,0]])\n",
    "torch.zeros(3,5,dtype=src.dtype).scatter_(0,index,src)"
   ]
  },
  {
   "cell_type": "markdown",
   "id": "033f9f36",
   "metadata": {},
   "source": [
    "split:把tensor化成多块(常用)"
   ]
  },
  {
   "cell_type": "code",
   "execution_count": 4,
   "id": "72692839",
   "metadata": {},
   "outputs": [
    {
     "data": {
      "text/plain": [
       "(tensor([[0, 1],\n",
       "         [2, 3]]),\n",
       " tensor([[4, 5],\n",
       "         [6, 7]]),\n",
       " tensor([[8, 9]]))"
      ]
     },
     "execution_count": 4,
     "metadata": {},
     "output_type": "execute_result"
    }
   ],
   "source": [
    "a = torch.arange(10).reshape(5,2)\n",
    "torch.split(a,2)"
   ]
  },
  {
   "cell_type": "code",
   "execution_count": 6,
   "id": "25b65e91",
   "metadata": {},
   "outputs": [
    {
     "data": {
      "text/plain": [
       "(tensor([[0, 1]]),\n",
       " tensor([[2, 3],\n",
       "         [4, 5],\n",
       "         [6, 7],\n",
       "         [8, 9]]))"
      ]
     },
     "execution_count": 6,
     "metadata": {},
     "output_type": "execute_result"
    }
   ],
   "source": [
    "torch.split(a,[1,4])"
   ]
  },
  {
   "cell_type": "markdown",
   "id": "4f253311",
   "metadata": {},
   "source": [
    "squeeze"
   ]
  },
  {
   "cell_type": "code",
   "execution_count": 11,
   "id": "45952544",
   "metadata": {},
   "outputs": [
    {
     "data": {
      "text/plain": [
       "tensor([[0.1526, 0.8034],\n",
       "        [0.8115, 0.3797],\n",
       "        [0.1247, 0.0909]])"
      ]
     },
     "execution_count": 11,
     "metadata": {},
     "output_type": "execute_result"
    }
   ],
   "source": [
    "b = torch.rand((3,2))\n",
    "c = torch.reshape(b,[3,1,2])\n",
    "torch.squeeze(c)  #1那个维度没有新增元素，所以被移除"
   ]
  },
  {
   "cell_type": "code",
   "execution_count": 16,
   "id": "2fb7cc1e",
   "metadata": {},
   "outputs": [
    {
     "data": {
      "text/plain": [
       "torch.Size([3, 2, 1])"
      ]
     },
     "execution_count": 16,
     "metadata": {},
     "output_type": "execute_result"
    }
   ],
   "source": [
    "#指定dim,它不能为list\n",
    "torch.squeeze(\n",
    "    torch.squeeze(b.reshape([3,1,2,1,1])\n",
    "                  ,dim=1),dim=2).shape"
   ]
  },
  {
   "cell_type": "markdown",
   "id": "b9748396",
   "metadata": {},
   "source": [
    "Stack"
   ]
  },
  {
   "cell_type": "code",
   "execution_count": 21,
   "id": "d0f6005d",
   "metadata": {},
   "outputs": [
    {
     "name": "stdout",
     "output_type": "stream",
     "text": [
      "torch.Size([2, 3, 2])\n",
      "torch.Size([3, 2, 2])\n",
      "torch.Size([3, 2, 2])\n"
     ]
    }
   ],
   "source": [
    "a = torch.rand([3,2])\n",
    "print(torch.stack([a,b]).shape)\n",
    "print(torch.stack([a,b],dim=1).shape)\n",
    "print(torch.stack([a,b],dim=2).shape)"
   ]
  },
  {
   "cell_type": "markdown",
   "id": "2e05b479",
   "metadata": {},
   "source": [
    "take"
   ]
  },
  {
   "cell_type": "code",
   "execution_count": 1,
   "id": "06b8051e",
   "metadata": {},
   "outputs": [
    {
     "data": {
      "text/plain": [
       "tensor([4, 5, 8])"
      ]
     },
     "execution_count": 1,
     "metadata": {},
     "output_type": "execute_result"
    }
   ],
   "source": [
    "import torch\n",
    "src = torch.tensor([[4,3,5],[6,7,8]])\n",
    "torch.take(src,torch.tensor([0,2,5]))"
   ]
  },
  {
   "cell_type": "markdown",
   "id": "8a85a949",
   "metadata": {},
   "source": [
    "tile(拷贝)"
   ]
  },
  {
   "cell_type": "code",
   "execution_count": 6,
   "id": "e2cc9678",
   "metadata": {},
   "outputs": [
    {
     "data": {
      "text/plain": [
       "tensor([1, 2, 3, 1, 2, 3])"
      ]
     },
     "execution_count": 6,
     "metadata": {},
     "output_type": "execute_result"
    }
   ],
   "source": [
    "x = torch.tensor([1,2,3])\n",
    "x.tile((2,))"
   ]
  },
  {
   "cell_type": "code",
   "execution_count": 5,
   "id": "c1ef261c",
   "metadata": {},
   "outputs": [
    {
     "data": {
      "text/plain": [
       "tensor([[1, 2, 3, 1, 2, 3],\n",
       "        [1, 2, 3, 1, 2, 3]])"
      ]
     },
     "execution_count": 5,
     "metadata": {},
     "output_type": "execute_result"
    }
   ],
   "source": [
    "torch.tile(x,(2,2))"
   ]
  },
  {
   "cell_type": "code",
   "execution_count": 8,
   "id": "03a1f013",
   "metadata": {},
   "outputs": [
    {
     "data": {
      "text/plain": [
       "tensor([[0.1514, 0.9547, 0.8140, 0.1514, 0.9547, 0.8140, 0.1514, 0.9547, 0.8140],\n",
       "        [0.3336, 0.2079, 0.2969, 0.3336, 0.2079, 0.2969, 0.3336, 0.2079, 0.2969],\n",
       "        [0.0065, 0.3987, 0.9258, 0.0065, 0.3987, 0.9258, 0.0065, 0.3987, 0.9258],\n",
       "        [0.4959, 0.4229, 0.9888, 0.4959, 0.4229, 0.9888, 0.4959, 0.4229, 0.9888]])"
      ]
     },
     "execution_count": 8,
     "metadata": {},
     "output_type": "execute_result"
    }
   ],
   "source": [
    "a = torch.rand((4,3))\n",
    "a_tiled = torch.tile(a,(1,3))\n",
    "a_tiled"
   ]
  },
  {
   "cell_type": "markdown",
   "id": "80b62ebf",
   "metadata": {},
   "source": [
    "transpose"
   ]
  },
  {
   "cell_type": "code",
   "execution_count": 10,
   "id": "fb11a4a4",
   "metadata": {
    "scrolled": true
   },
   "outputs": [
    {
     "name": "stdout",
     "output_type": "stream",
     "text": [
      "tensor([[0.0370, 0.0126, 0.2856, 0.3305],\n",
      "        [0.5843, 0.5877, 0.1479, 0.7233],\n",
      "        [0.9723, 0.0763, 0.3017, 0.9313]])\n",
      "tensor([[0.0370, 0.0126, 0.2856, 0.3305],\n",
      "        [0.5843, 0.5877, 0.1479, 0.7233],\n",
      "        [0.9723, 0.0763, 0.3017, 0.9313]])\n"
     ]
    }
   ],
   "source": [
    "x = torch.rand((4,3))\n",
    "print(torch.transpose(x,0,1))\n",
    "print(torch.transpose(x,1,0))"
   ]
  },
  {
   "cell_type": "markdown",
   "id": "7b48292f",
   "metadata": {},
   "source": [
    "unbind:拆开元组的某一个维度"
   ]
  },
  {
   "cell_type": "code",
   "execution_count": 14,
   "id": "62f152e4",
   "metadata": {},
   "outputs": [
    {
     "data": {
      "text/plain": [
       "tensor([[0.1514, 0.9547, 0.8140],\n",
       "        [0.3336, 0.2079, 0.2969],\n",
       "        [0.0065, 0.3987, 0.9258],\n",
       "        [0.4959, 0.4229, 0.9888]])"
      ]
     },
     "execution_count": 14,
     "metadata": {},
     "output_type": "execute_result"
    }
   ],
   "source": [
    "a"
   ]
  },
  {
   "cell_type": "code",
   "execution_count": 13,
   "id": "f7aad926",
   "metadata": {},
   "outputs": [
    {
     "data": {
      "text/plain": [
       "(tensor([0.1514, 0.3336, 0.0065, 0.4959]),\n",
       " tensor([0.9547, 0.2079, 0.3987, 0.4229]),\n",
       " tensor([0.8140, 0.2969, 0.9258, 0.9888]))"
      ]
     },
     "execution_count": 13,
     "metadata": {},
     "output_type": "execute_result"
    }
   ],
   "source": [
    "torch.unbind(a,dim=1)"
   ]
  },
  {
   "cell_type": "code",
   "execution_count": 16,
   "id": "a1dd2d01",
   "metadata": {},
   "outputs": [
    {
     "data": {
      "text/plain": [
       "(tensor([[0.4055, 0.7878, 0.7953, 0.4953],\n",
       "         [0.6619, 0.4799, 0.9860, 0.9492]]),\n",
       " tensor([[0.4818, 0.1554, 0.2417, 0.4207],\n",
       "         [0.2398, 0.7648, 0.1528, 0.8000]]),\n",
       " tensor([[0.9747, 0.7916, 0.8347, 0.9005],\n",
       "         [0.7211, 0.3426, 0.3584, 0.0013]]))"
      ]
     },
     "execution_count": 16,
     "metadata": {},
     "output_type": "execute_result"
    }
   ],
   "source": [
    "a = torch.rand((2,3,4))\n",
    "torch.unbind(a,dim=1)"
   ]
  },
  {
   "cell_type": "markdown",
   "id": "6a7b86c8",
   "metadata": {},
   "source": [
    "unsqueeze:升维操作"
   ]
  },
  {
   "cell_type": "code",
   "execution_count": 21,
   "id": "448ffe60",
   "metadata": {},
   "outputs": [
    {
     "data": {
      "text/plain": [
       "tensor([0.1330, 0.2886, 0.5113, 0.3856])"
      ]
     },
     "execution_count": 21,
     "metadata": {},
     "output_type": "execute_result"
    }
   ],
   "source": [
    "a = torch.rand((4,))\n",
    "a"
   ]
  },
  {
   "cell_type": "code",
   "execution_count": 25,
   "id": "a877cf7d",
   "metadata": {},
   "outputs": [
    {
     "data": {
      "text/plain": [
       "tensor([[0.1330, 0.2886, 0.5113, 0.3856]])"
      ]
     },
     "execution_count": 25,
     "metadata": {},
     "output_type": "execute_result"
    }
   ],
   "source": [
    "torch.unsqueeze(a,dim=0)"
   ]
  },
  {
   "cell_type": "code",
   "execution_count": 27,
   "id": "6d1e9e04",
   "metadata": {},
   "outputs": [
    {
     "data": {
      "text/plain": [
       "torch.Size([4, 1])"
      ]
     },
     "execution_count": 27,
     "metadata": {},
     "output_type": "execute_result"
    }
   ],
   "source": [
    "torch.unsqueeze(a,dim=-1).shape"
   ]
  },
  {
   "cell_type": "markdown",
   "id": "c594926f",
   "metadata": {},
   "source": [
    "where:可以起到一个mask的效果"
   ]
  },
  {
   "cell_type": "code",
   "execution_count": 30,
   "id": "678677b0",
   "metadata": {},
   "outputs": [
    {
     "data": {
      "text/plain": [
       "tensor([[1.5485, 1.0000],\n",
       "        [1.0000, 1.4556],\n",
       "        [1.5107, 0.0247]])"
      ]
     },
     "execution_count": 30,
     "metadata": {},
     "output_type": "execute_result"
    }
   ],
   "source": [
    "x = torch.randn(3,2)\n",
    "y = torch.ones(3,2)\n",
    "\n",
    "torch.where(x>0,x,y)"
   ]
  },
  {
   "cell_type": "markdown",
   "id": "032af762",
   "metadata": {},
   "source": [
    "随机数种子"
   ]
  },
  {
   "cell_type": "code",
   "execution_count": 53,
   "id": "8752eb4b",
   "metadata": {},
   "outputs": [
    {
     "data": {
      "text/plain": [
       "tensor([0.6614, 0.2669, 0.0617])"
      ]
     },
     "execution_count": 53,
     "metadata": {},
     "output_type": "execute_result"
    }
   ],
   "source": [
    "torch.manual_seed(1)\n",
    "torch.randn((3,))"
   ]
  },
  {
   "cell_type": "markdown",
   "id": "0c3342e7",
   "metadata": {},
   "source": [
    "伯努利分布采样"
   ]
  },
  {
   "cell_type": "code",
   "execution_count": 54,
   "id": "01defb17",
   "metadata": {
    "scrolled": true
   },
   "outputs": [
    {
     "data": {
      "text/plain": [
       "tensor([[1., 0., 1.],\n",
       "        [1., 0., 0.]])"
      ]
     },
     "execution_count": 54,
     "metadata": {},
     "output_type": "execute_result"
    }
   ],
   "source": [
    "a = torch.rand((2,3))\n",
    "torch.bernoulli(a)"
   ]
  },
  {
   "cell_type": "raw",
   "id": "45809260",
   "metadata": {},
   "source": [
    "torch.normal(0,1,size=(2,2))"
   ]
  },
  {
   "cell_type": "markdown",
   "id": "f580fe30",
   "metadata": {},
   "source": [
    "randperm:随机组合"
   ]
  },
  {
   "cell_type": "code",
   "execution_count": 58,
   "id": "3fdf00e3",
   "metadata": {},
   "outputs": [
    {
     "data": {
      "text/plain": [
       "tensor([3, 0, 4, 1, 2])"
      ]
     },
     "execution_count": 58,
     "metadata": {},
     "output_type": "execute_result"
    }
   ],
   "source": [
    "import torch\n",
    "torch.randperm(5)"
   ]
  },
  {
   "cell_type": "code",
   "execution_count": null,
   "id": "6abe138d",
   "metadata": {},
   "outputs": [],
   "source": []
  }
 ],
 "metadata": {
  "kernelspec": {
   "display_name": "Python 3 (ipykernel)",
   "language": "python",
   "name": "python3"
  },
  "language_info": {
   "codemirror_mode": {
    "name": "ipython",
    "version": 3
   },
   "file_extension": ".py",
   "mimetype": "text/x-python",
   "name": "python",
   "nbconvert_exporter": "python",
   "pygments_lexer": "ipython3",
   "version": "3.8.12"
  },
  "toc": {
   "base_numbering": 1,
   "nav_menu": {},
   "number_sections": true,
   "sideBar": true,
   "skip_h1_title": false,
   "title_cell": "Table of Contents",
   "title_sidebar": "Contents",
   "toc_cell": false,
   "toc_position": {},
   "toc_section_display": true,
   "toc_window_display": false
  }
 },
 "nbformat": 4,
 "nbformat_minor": 5
}
