{
 "cells": [
  {
   "cell_type": "code",
   "execution_count": 1,
   "id": "8002ddba",
   "metadata": {},
   "outputs": [],
   "source": [
    "from keras.datasets import imdb\n",
    "from keras.preprocessing import sequence"
   ]
  },
  {
   "cell_type": "code",
   "execution_count": 2,
   "id": "018cd72b",
   "metadata": {},
   "outputs": [
    {
     "name": "stdout",
     "output_type": "stream",
     "text": [
      "[list([1, 14, 22, 16, 43, 530, 973, 1622, 1385, 65, 458, 4468, 66, 3941, 4, 173, 36, 256, 5, 25, 100, 43, 838, 112, 50, 670, 2, 9, 35, 480, 284, 5, 150, 4, 172, 112, 167, 2, 336, 385, 39, 4, 172, 4536, 1111, 17, 546, 38, 13, 447, 4, 192, 50, 16, 6, 147, 2025, 19, 14, 22, 4, 1920, 4613, 469, 4, 22, 71, 87, 12, 16, 43, 530, 38, 76, 15, 13, 1247, 4, 22, 17, 515, 17, 12, 16, 626, 18, 2, 5, 62, 386, 12, 8, 316, 8, 106, 5, 4, 2223, 5244, 16, 480, 66, 3785, 33, 4, 130, 12, 16, 38, 619, 5, 25, 124, 51, 36, 135, 48, 25, 1415, 33, 6, 22, 12, 215, 28, 77, 52, 5, 14, 407, 16, 82, 2, 8, 4, 107, 117, 5952, 15, 256, 4, 2, 7, 3766, 5, 723, 36, 71, 43, 530, 476, 26, 400, 317, 46, 7, 4, 2, 1029, 13, 104, 88, 4, 381, 15, 297, 98, 32, 2071, 56, 26, 141, 6, 194, 7486, 18, 4, 226, 22, 21, 134, 476, 26, 480, 5, 144, 30, 5535, 18, 51, 36, 28, 224, 92, 25, 104, 4, 226, 65, 16, 38, 1334, 88, 12, 16, 283, 5, 16, 4472, 113, 103, 32, 15, 16, 5345, 19, 178, 32])]\n",
      "[[  65   16   38 1334   88   12   16  283    5   16 4472  113  103   32\n",
      "    15   16 5345   19  178   32]]\n"
     ]
    }
   ],
   "source": [
    "max_features = 10000\n",
    "maxlen = 20\n",
    "(x_train,y_train),(x_test,y_test) = imdb.load_data(num_words=max_features)\n",
    "print(x_train[:1,])\n",
    "#keras只能接受长度相同的序列输入\n",
    "#pad_sequence:将序列转化位经过填充以后的一个长度相同的新序列\n",
    "x_train = sequence.pad_sequences(x_train,maxlen=maxlen)\n",
    "x_test = sequence.pad_sequences(x_test,maxlen=maxlen)\n",
    "print(x_train[:1,])"
   ]
  },
  {
   "cell_type": "code",
   "execution_count": 5,
   "id": "e5343e42",
   "metadata": {},
   "outputs": [],
   "source": [
    "from keras.models import Sequential\n",
    "from keras.layers import Flatten,Dense,Embedding"
   ]
  },
  {
   "cell_type": "code",
   "execution_count": 7,
   "id": "d7223e1f",
   "metadata": {},
   "outputs": [
    {
     "name": "stdout",
     "output_type": "stream",
     "text": [
      "Model: \"sequential\"\n",
      "_________________________________________________________________\n",
      " Layer (type)                Output Shape              Param #   \n",
      "=================================================================\n",
      " embedding (Embedding)       (None, 20, 8)             80000     \n",
      "                                                                 \n",
      " flatten (Flatten)           (None, 160)               0         \n",
      "                                                                 \n",
      " dense (Dense)               (None, 1)                 161       \n",
      "                                                                 \n",
      "=================================================================\n",
      "Total params: 80,161\n",
      "Trainable params: 80,161\n",
      "Non-trainable params: 0\n",
      "_________________________________________________________________\n",
      "Epoch 1/10\n",
      "625/625 [==============================] - 3s 2ms/step - loss: 0.6675 - acc: 0.6254 - val_loss: 0.6139 - val_acc: 0.7044\n",
      "Epoch 2/10\n",
      "625/625 [==============================] - 1s 1ms/step - loss: 0.5384 - acc: 0.7517 - val_loss: 0.5229 - val_acc: 0.7338\n",
      "Epoch 3/10\n",
      "625/625 [==============================] - 1s 1ms/step - loss: 0.4592 - acc: 0.7894 - val_loss: 0.4989 - val_acc: 0.7464\n",
      "Epoch 4/10\n",
      "625/625 [==============================] - 1s 2ms/step - loss: 0.4209 - acc: 0.8104 - val_loss: 0.4927 - val_acc: 0.7524\n",
      "Epoch 5/10\n",
      "625/625 [==============================] - 1s 2ms/step - loss: 0.3952 - acc: 0.8225 - val_loss: 0.4938 - val_acc: 0.7576\n",
      "Epoch 6/10\n",
      "625/625 [==============================] - 1s 1ms/step - loss: 0.3745 - acc: 0.8349 - val_loss: 0.4969 - val_acc: 0.7586\n",
      "Epoch 7/10\n",
      "625/625 [==============================] - 1s 1ms/step - loss: 0.3558 - acc: 0.8456 - val_loss: 0.5017 - val_acc: 0.7570\n",
      "Epoch 8/10\n",
      "625/625 [==============================] - 1s 1ms/step - loss: 0.3385 - acc: 0.8559 - val_loss: 0.5092 - val_acc: 0.7548\n",
      "Epoch 9/10\n",
      "625/625 [==============================] - 1s 1ms/step - loss: 0.3218 - acc: 0.8644 - val_loss: 0.5141 - val_acc: 0.7546\n",
      "Epoch 10/10\n",
      "625/625 [==============================] - 1s 1ms/step - loss: 0.3057 - acc: 0.8735 - val_loss: 0.5224 - val_acc: 0.7484\n"
     ]
    }
   ],
   "source": [
    "model = Sequential()\n",
    "model.add(Embedding(10000,8,input_length = 20))\n",
    "model.add(Flatten())\n",
    "model.add(Dense(1,activation = 'sigmoid'))\n",
    "model.summary()\n",
    "model.compile(optimizer='rmsprop',loss = 'binary_crossentropy',metrics = ['acc'])\n",
    "history = model.fit(x_train,y_train,epochs=10,batch_size = 32,validation_split=0.2)"
   ]
  },
  {
   "cell_type": "code",
   "execution_count": 10,
   "id": "14542ec9",
   "metadata": {},
   "outputs": [
    {
     "name": "stdout",
     "output_type": "stream",
     "text": [
      "[list([1, 14, 22, 16, 43, 530, 973, 1622, 1385, 65, 458, 4468, 66, 3941, 4, 173, 36, 256, 5, 25, 100, 43, 838, 112, 50, 670, 2, 9, 35, 480, 284, 5, 150, 4, 172, 112, 167, 2, 336, 385, 39, 4, 172, 4536, 1111, 17, 546, 38, 13, 447, 4, 192, 50, 16, 6, 147, 2025, 19, 14, 22, 4, 1920, 4613, 469, 4, 22, 71, 87, 12, 16, 43, 530, 38, 76, 15, 13, 1247, 4, 22, 17, 515, 17, 12, 16, 626, 18, 2, 5, 62, 386, 12, 8, 316, 8, 106, 5, 4, 2223, 5244, 16, 480, 66, 3785, 33, 4, 130, 12, 16, 38, 619, 5, 25, 124, 51, 36, 135, 48, 25, 1415, 33, 6, 22, 12, 215, 28, 77, 52, 5, 14, 407, 16, 82, 2, 8, 4, 107, 117, 5952, 15, 256, 4, 2, 7, 3766, 5, 723, 36, 71, 43, 530, 476, 26, 400, 317, 46, 7, 4, 2, 1029, 13, 104, 88, 4, 381, 15, 297, 98, 32, 2071, 56, 26, 141, 6, 194, 7486, 18, 4, 226, 22, 21, 134, 476, 26, 480, 5, 144, 30, 5535, 18, 51, 36, 28, 224, 92, 25, 104, 4, 226, 65, 16, 38, 1334, 88, 12, 16, 283, 5, 16, 4472, 113, 103, 32, 15, 16, 5345, 19, 178, 32])]\n",
      "[[1029   13  104   88    4  381   15  297   98   32 2071   56   26  141\n",
      "     6  194 7486   18    4  226   22   21  134  476   26  480    5  144\n",
      "    30 5535   18   51   36   28  224   92   25  104    4  226   65   16\n",
      "    38 1334   88   12   16  283    5   16 4472  113  103   32   15   16\n",
      "  5345   19  178   32]]\n",
      "Model: \"sequential_3\"\n",
      "_________________________________________________________________\n",
      " Layer (type)                Output Shape              Param #   \n",
      "=================================================================\n",
      " embedding_3 (Embedding)     (None, 60, 8)             80000     \n",
      "                                                                 \n",
      " flatten_3 (Flatten)         (None, 480)               0         \n",
      "                                                                 \n",
      " dense_3 (Dense)             (None, 1)                 481       \n",
      "                                                                 \n",
      "=================================================================\n",
      "Total params: 80,481\n",
      "Trainable params: 80,481\n",
      "Non-trainable params: 0\n",
      "_________________________________________________________________\n",
      "Epoch 1/10\n",
      "625/625 [==============================] - 1s 2ms/step - loss: 0.6258 - acc: 0.6861 - val_loss: 0.5023 - val_acc: 0.7832\n",
      "Epoch 2/10\n",
      "625/625 [==============================] - 1s 1ms/step - loss: 0.4161 - acc: 0.8227 - val_loss: 0.4013 - val_acc: 0.8138\n",
      "Epoch 3/10\n",
      "625/625 [==============================] - 1s 2ms/step - loss: 0.3407 - acc: 0.8555 - val_loss: 0.3797 - val_acc: 0.8210\n",
      "Epoch 4/10\n",
      "625/625 [==============================] - 1s 1ms/step - loss: 0.3067 - acc: 0.8703 - val_loss: 0.3770 - val_acc: 0.8222\n",
      "Epoch 5/10\n",
      "625/625 [==============================] - 1s 2ms/step - loss: 0.2831 - acc: 0.8820 - val_loss: 0.3791 - val_acc: 0.8228\n",
      "Epoch 6/10\n",
      "625/625 [==============================] - 1s 2ms/step - loss: 0.2644 - acc: 0.8910 - val_loss: 0.3847 - val_acc: 0.8266\n",
      "Epoch 7/10\n",
      "625/625 [==============================] - 1s 2ms/step - loss: 0.2473 - acc: 0.9007 - val_loss: 0.3899 - val_acc: 0.8246\n",
      "Epoch 8/10\n",
      "625/625 [==============================] - 1s 2ms/step - loss: 0.2309 - acc: 0.9084 - val_loss: 0.3971 - val_acc: 0.8236\n",
      "Epoch 9/10\n",
      "625/625 [==============================] - 1s 2ms/step - loss: 0.2140 - acc: 0.9161 - val_loss: 0.4071 - val_acc: 0.8210\n",
      "Epoch 10/10\n",
      "625/625 [==============================] - 1s 1ms/step - loss: 0.1975 - acc: 0.9244 - val_loss: 0.4171 - val_acc: 0.8208\n"
     ]
    }
   ],
   "source": [
    "#不同长度\n",
    "max_features = 10000\n",
    "maxlen = 60\n",
    "(x_train,y_train),(x_test,y_test) = imdb.load_data(num_words=max_features)\n",
    "print(x_train[:1,])\n",
    "#keras只能接受长度相同的序列输入\n",
    "#pad_sequence:将序列转化位经过填充以后的一个长度相同的新序列\n",
    "x_train = sequence.pad_sequences(x_train,maxlen=maxlen)\n",
    "x_test = sequence.pad_sequences(x_test,maxlen=maxlen)\n",
    "print(x_train[:1,])\n",
    "model = Sequential()\n",
    "model.add(Embedding(10000,8,input_length = 60))\n",
    "model.add(Flatten())\n",
    "model.add(Dense(1,activation = 'sigmoid'))\n",
    "model.summary()\n",
    "model.compile(optimizer='rmsprop',loss = 'binary_crossentropy',metrics = ['acc'])\n",
    "history = model.fit(x_train,y_train,epochs=10,batch_size = 32,validation_split=0.2)"
   ]
  },
  {
   "cell_type": "code",
   "execution_count": null,
   "id": "83dee913",
   "metadata": {},
   "outputs": [],
   "source": [
    "#当最大长度为60时，可以看到最后一轮的精确度达到了82.08%，比最大长度为20时要高。"
   ]
  },
  {
   "cell_type": "code",
   "execution_count": 14,
   "id": "fdfe7533",
   "metadata": {},
   "outputs": [
    {
     "name": "stdout",
     "output_type": "stream",
     "text": [
      "[list([1, 14, 22, 16, 43, 530, 973, 1622, 1385, 65, 458, 4468, 66, 3941, 4, 173, 36, 256, 5, 25, 100, 43, 838, 112, 50, 670, 2, 9, 35, 480, 284, 5, 150, 4, 172, 112, 167, 2, 336, 385, 39, 4, 172, 4536, 1111, 17, 546, 38, 13, 447, 4, 192, 50, 16, 6, 147, 2025, 19, 14, 22, 4, 1920, 4613, 469, 4, 22, 71, 87, 12, 16, 43, 530, 38, 76, 15, 13, 1247, 4, 22, 17, 515, 17, 12, 16, 626, 18, 2, 5, 62, 386, 12, 8, 316, 8, 106, 5, 4, 2223, 5244, 16, 480, 66, 3785, 33, 4, 130, 12, 16, 38, 619, 5, 25, 124, 51, 36, 135, 48, 25, 1415, 33, 6, 22, 12, 215, 28, 77, 52, 5, 14, 407, 16, 82, 2, 8, 4, 107, 117, 5952, 15, 256, 4, 2, 7, 3766, 5, 723, 36, 71, 43, 530, 476, 26, 400, 317, 46, 7, 4, 2, 1029, 13, 104, 88, 4, 381, 15, 297, 98, 32, 2071, 56, 26, 141, 6, 194, 7486, 18, 4, 226, 22, 21, 134, 476, 26, 480, 5, 144, 30, 5535, 18, 51, 36, 28, 224, 92, 25, 104, 4, 226, 65, 16, 38, 1334, 88, 12, 16, 283, 5, 16, 4472, 113, 103, 32, 15, 16, 5345, 19, 178, 32])]\n",
      "[[1029   13  104   88    4  381   15  297   98   32 2071   56   26  141\n",
      "     6  194 7486   18    4  226   22   21  134  476   26  480    5  144\n",
      "    30 5535   18   51   36   28  224   92   25  104    4  226   65   16\n",
      "    38 1334   88   12   16  283    5   16 4472  113  103   32   15   16\n",
      "  5345   19  178   32]]\n",
      "Model: \"sequential_7\"\n",
      "_________________________________________________________________\n",
      " Layer (type)                Output Shape              Param #   \n",
      "=================================================================\n",
      " embedding_7 (Embedding)     (None, 60, 16)            160000    \n",
      "                                                                 \n",
      " flatten_7 (Flatten)         (None, 960)               0         \n",
      "                                                                 \n",
      " dense_7 (Dense)             (None, 1)                 961       \n",
      "                                                                 \n",
      "=================================================================\n",
      "Total params: 160,961\n",
      "Trainable params: 160,961\n",
      "Non-trainable params: 0\n",
      "_________________________________________________________________\n",
      "Epoch 1/10\n",
      "625/625 [==============================] - 2s 2ms/step - loss: 0.6280 - acc: 0.6735 - val_loss: 0.4939 - val_acc: 0.7836\n",
      "Epoch 2/10\n",
      "625/625 [==============================] - 1s 2ms/step - loss: 0.3953 - acc: 0.8346 - val_loss: 0.3951 - val_acc: 0.8192\n",
      "Epoch 3/10\n",
      "625/625 [==============================] - 1s 2ms/step - loss: 0.3147 - acc: 0.8680 - val_loss: 0.3787 - val_acc: 0.8276\n",
      "Epoch 4/10\n",
      "625/625 [==============================] - 1s 2ms/step - loss: 0.2703 - acc: 0.8886 - val_loss: 0.3820 - val_acc: 0.8250\n",
      "Epoch 5/10\n",
      "625/625 [==============================] - 1s 2ms/step - loss: 0.2336 - acc: 0.9090 - val_loss: 0.3878 - val_acc: 0.8252\n",
      "Epoch 6/10\n",
      "625/625 [==============================] - 1s 2ms/step - loss: 0.2006 - acc: 0.9250 - val_loss: 0.3986 - val_acc: 0.8240\n",
      "Epoch 7/10\n",
      "625/625 [==============================] - 1s 2ms/step - loss: 0.1687 - acc: 0.9402 - val_loss: 0.4123 - val_acc: 0.8220\n",
      "Epoch 8/10\n",
      "625/625 [==============================] - 1s 2ms/step - loss: 0.1399 - acc: 0.9539 - val_loss: 0.4312 - val_acc: 0.8152\n",
      "Epoch 9/10\n",
      "625/625 [==============================] - 1s 2ms/step - loss: 0.1137 - acc: 0.9653 - val_loss: 0.4485 - val_acc: 0.8094\n",
      "Epoch 10/10\n",
      "625/625 [==============================] - 1s 2ms/step - loss: 0.0906 - acc: 0.9743 - val_loss: 0.4697 - val_acc: 0.8074\n"
     ]
    }
   ],
   "source": [
    "#不同嵌入维度\n",
    "max_features = 10000\n",
    "maxlen = 60\n",
    "(x_train,y_train),(x_test,y_test) = imdb.load_data(num_words=max_features)\n",
    "print(x_train[:1,])\n",
    "#keras只能接受长度相同的序列输入\n",
    "#pad_sequence:将序列转化位经过填充以后的一个长度相同的新序列\n",
    "x_train = sequence.pad_sequences(x_train,maxlen=maxlen)\n",
    "x_test = sequence.pad_sequences(x_test,maxlen=maxlen)\n",
    "print(x_train[:1,])\n",
    "model = Sequential()\n",
    "model.add(Embedding(10000,16,input_length = 60))\n",
    "model.add(Flatten())\n",
    "model.add(Dense(1,activation = 'sigmoid'))\n",
    "model.summary()\n",
    "model.compile(optimizer='rmsprop',loss = 'binary_crossentropy',metrics = ['acc'])\n",
    "history = model.fit(x_train,y_train,epochs=10,batch_size = 32,validation_split=0.2)"
   ]
  },
  {
   "cell_type": "code",
   "execution_count": null,
   "id": "b7409056",
   "metadata": {},
   "outputs": [],
   "source": [
    "#样本长度为60，嵌入维度为16时，最后一轮验证精确度为80.74%，与嵌入维度未8时相比未出现较大变化。"
   ]
  }
 ],
 "metadata": {
  "kernelspec": {
   "display_name": "Python 3",
   "language": "python",
   "name": "python3"
  },
  "language_info": {
   "codemirror_mode": {
    "name": "ipython",
    "version": 3
   },
   "file_extension": ".py",
   "mimetype": "text/x-python",
   "name": "python",
   "nbconvert_exporter": "python",
   "pygments_lexer": "ipython3",
   "version": "3.8.8"
  }
 },
 "nbformat": 4,
 "nbformat_minor": 5
}
