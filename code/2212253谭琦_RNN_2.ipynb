{
 "cells": [
  {
   "cell_type": "code",
   "execution_count": 7,
   "id": "fe0ae9a2",
   "metadata": {},
   "outputs": [],
   "source": [
    "#使用BiLSTM实现电影评论分类\n",
    "from keras.datasets import imdb\n",
    "from keras.preprocessing import sequence"
   ]
  },
  {
   "cell_type": "code",
   "execution_count": 12,
   "id": "727823e2",
   "metadata": {},
   "outputs": [],
   "source": [
    "max_features = 10000\n",
    "maxlen = 60"
   ]
  },
  {
   "cell_type": "code",
   "execution_count": 13,
   "id": "3ea7bc86",
   "metadata": {},
   "outputs": [],
   "source": [
    "(x_train, y_train), (x_test, y_test) = imdb.load_data(num_words=max_features)\n",
    "x_train =sequence.pad_sequences(x_train, maxlen=maxlen)\n",
    "x_test = sequence.pad_sequences(x_test, maxlen=maxlen)\n"
   ]
  },
  {
   "cell_type": "code",
   "execution_count": 10,
   "id": "94786df1",
   "metadata": {},
   "outputs": [],
   "source": [
    "from keras.models import Sequential\n",
    "from keras.layers import Dense,LSTM,Bidirectional,Embedding"
   ]
  },
  {
   "cell_type": "code",
   "execution_count": 14,
   "id": "19729d18",
   "metadata": {},
   "outputs": [
    {
     "name": "stdout",
     "output_type": "stream",
     "text": [
      "Model: \"sequential_3\"\n",
      "_________________________________________________________________\n",
      " Layer (type)                Output Shape              Param #   \n",
      "=================================================================\n",
      " embedding_2 (Embedding)     (None, None, 32)          320000    \n",
      "                                                                 \n",
      " bidirectional_2 (Bidirectio  (None, 64)               16640     \n",
      " nal)                                                            \n",
      "                                                                 \n",
      " dense_2 (Dense)             (None, 1)                 65        \n",
      "                                                                 \n",
      "=================================================================\n",
      "Total params: 336,705\n",
      "Trainable params: 336,705\n",
      "Non-trainable params: 0\n",
      "_________________________________________________________________\n",
      "Epoch 1/10\n",
      "157/157 [==============================] - 10s 47ms/step - loss: 0.5044 - acc: 0.7459 - val_loss: 0.4579 - val_acc: 0.7768\n",
      "Epoch 2/10\n",
      "157/157 [==============================] - 7s 46ms/step - loss: 0.3418 - acc: 0.8534 - val_loss: 0.3989 - val_acc: 0.8186\n",
      "Epoch 3/10\n",
      "157/157 [==============================] - 7s 45ms/step - loss: 0.2913 - acc: 0.8787 - val_loss: 0.4072 - val_acc: 0.8118\n",
      "Epoch 4/10\n",
      "157/157 [==============================] - 7s 44ms/step - loss: 0.2562 - acc: 0.8977 - val_loss: 0.4748 - val_acc: 0.7980\n",
      "Epoch 5/10\n",
      "157/157 [==============================] - 7s 47ms/step - loss: 0.2289 - acc: 0.9094 - val_loss: 0.4542 - val_acc: 0.8106\n",
      "Epoch 6/10\n",
      "157/157 [==============================] - 8s 54ms/step - loss: 0.2056 - acc: 0.9217 - val_loss: 0.4866 - val_acc: 0.8050\n",
      "Epoch 7/10\n",
      "157/157 [==============================] - 9s 54ms/step - loss: 0.1840 - acc: 0.9284 - val_loss: 0.5500 - val_acc: 0.7854\n",
      "Epoch 8/10\n",
      "157/157 [==============================] - 8s 49ms/step - loss: 0.1664 - acc: 0.9352 - val_loss: 0.7212 - val_acc: 0.7562\n",
      "Epoch 9/10\n",
      "157/157 [==============================] - 7s 47ms/step - loss: 0.1508 - acc: 0.9448 - val_loss: 0.5846 - val_acc: 0.7856\n",
      "Epoch 10/10\n",
      "157/157 [==============================] - 7s 47ms/step - loss: 0.1357 - acc: 0.9502 - val_loss: 0.6364 - val_acc: 0.7858\n"
     ]
    }
   ],
   "source": [
    "model = Sequential()\n",
    "model.add(Embedding(max_features,32))\n",
    "model.add(Bidirectional(LSTM(32)))\n",
    "model.add(Dense(1,activation = 'sigmoid'))\n",
    "model.summary()\n",
    "model.compile(optimizer='rmsprop',loss = 'binary_crossentropy',metrics=['acc'])\n",
    "history = model.fit(x_train,y_train,epochs=10,batch_size = 128,validation_split=0.2)"
   ]
  },
  {
   "cell_type": "code",
   "execution_count": null,
   "id": "2e3f86b0",
   "metadata": {},
   "outputs": [],
   "source": [
    "#取样本长度为60，最后一轮精确度为78.58%"
   ]
  }
 ],
 "metadata": {
  "kernelspec": {
   "display_name": "Python 3",
   "language": "python",
   "name": "python3"
  },
  "language_info": {
   "codemirror_mode": {
    "name": "ipython",
    "version": 3
   },
   "file_extension": ".py",
   "mimetype": "text/x-python",
   "name": "python",
   "nbconvert_exporter": "python",
   "pygments_lexer": "ipython3",
   "version": "3.8.8"
  }
 },
 "nbformat": 4,
 "nbformat_minor": 5
}
