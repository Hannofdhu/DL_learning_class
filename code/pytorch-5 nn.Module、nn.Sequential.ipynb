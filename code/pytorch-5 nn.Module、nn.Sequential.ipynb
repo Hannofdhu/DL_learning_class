{
 "cells": [
  {
   "cell_type": "markdown",
   "id": "de181253",
   "metadata": {},
   "source": [
    "model.training()"
   ]
  },
  {
   "cell_type": "code",
   "execution_count": 8,
   "id": "5c3ae372",
   "metadata": {},
   "outputs": [
    {
     "ename": "NameError",
     "evalue": "name 'requires_grad_' is not defined",
     "output_type": "error",
     "traceback": [
      "\u001b[0;31m---------------------------------------------------------------------------\u001b[0m",
      "\u001b[0;31mNameError\u001b[0m                                 Traceback (most recent call last)",
      "Input \u001b[0;32mIn [8]\u001b[0m, in \u001b[0;36m<module>\u001b[0;34m\u001b[0m\n\u001b[1;32m      1\u001b[0m \u001b[38;5;66;03m#所有模块都需要梯度更新\u001b[39;00m\n\u001b[0;32m----> 2\u001b[0m \u001b[43mrequires_grad_\u001b[49m()\n",
      "\u001b[0;31mNameError\u001b[0m: name 'requires_grad_' is not defined"
     ]
    }
   ],
   "source": [
    "#所有模块都需要梯度更新\n",
    "requires_grad_()"
   ]
  },
  {
   "cell_type": "markdown",
   "id": "98b15540",
   "metadata": {},
   "source": [
    "双下划线的函数（__）在python中叫做魔法函数"
   ]
  },
  {
   "cell_type": "markdown",
   "id": "324ecfaf",
   "metadata": {},
   "source": [
    "container.py:已经并入nn.Module"
   ]
  },
  {
   "cell_type": "markdown",
   "id": "8d98ecdd",
   "metadata": {},
   "source": [
    "Sequential:有序的"
   ]
  },
  {
   "cell_type": "code",
   "execution_count": 9,
   "id": "c1bd1fc8",
   "metadata": {},
   "outputs": [],
   "source": [
    "from torch import nn\n",
    "model = nn.Sequential(\n",
    "nn.Conv2d(1,20,5),\n",
    "nn.ReLU(),\n",
    "nn.Conv2d(20,64,5),\n",
    "nn.ReLU()\n",
    ")"
   ]
  },
  {
   "cell_type": "code",
   "execution_count": 11,
   "id": "1c4b1233",
   "metadata": {},
   "outputs": [
    {
     "data": {
      "text/plain": [
       "Sequential(\n",
       "  (0): Conv2d(1, 20, kernel_size=(5, 5), stride=(1, 1))\n",
       "  (1): ReLU()\n",
       "  (2): Conv2d(20, 64, kernel_size=(5, 5), stride=(1, 1))\n",
       "  (3): ReLU()\n",
       ")"
      ]
     },
     "execution_count": 11,
     "metadata": {},
     "output_type": "execute_result"
    }
   ],
   "source": [
    "model"
   ]
  },
  {
   "cell_type": "code",
   "execution_count": 12,
   "id": "4c8b322d",
   "metadata": {},
   "outputs": [
    {
     "data": {
      "text/plain": [
       "OrderedDict([('0', Conv2d(1, 20, kernel_size=(5, 5), stride=(1, 1))),\n",
       "             ('1', ReLU()),\n",
       "             ('2', Conv2d(20, 64, kernel_size=(5, 5), stride=(1, 1))),\n",
       "             ('3', ReLU())])"
      ]
     },
     "execution_count": 12,
     "metadata": {},
     "output_type": "execute_result"
    }
   ],
   "source": [
    "model._modules"
   ]
  },
  {
   "cell_type": "markdown",
   "id": "a8d18fc6",
   "metadata": {},
   "source": [
    "forward"
   ]
  },
  {
   "cell_type": "markdown",
   "id": "9f649454",
   "metadata": {},
   "source": [
    "input依次去过每一个module"
   ]
  },
  {
   "cell_type": "markdown",
   "id": "e78b82dd",
   "metadata": {},
   "source": [
    "ModuleList"
   ]
  },
  {
   "cell_type": "code",
   "execution_count": 29,
   "id": "496b2089",
   "metadata": {},
   "outputs": [],
   "source": [
    "class MyModule(nn.Module):\n",
    "    def __init__(self):\n",
    "        super(MyModule,self).__init__()\n",
    "        self.linears = nn.ModuleList(\n",
    "            [nn.Linear(10,10) for i in range(10)])\n",
    "    def forward(self,x):\n",
    "        for i,l in enumerate(self.linears):\n",
    "            print(i//2)\n",
    "            #“//”向下取整\n",
    "            x = self.linears[i//2](x)+l(x)\n",
    "        return x\n"
   ]
  },
  {
   "cell_type": "code",
   "execution_count": 30,
   "id": "086e27ac",
   "metadata": {},
   "outputs": [
    {
     "name": "stdout",
     "output_type": "stream",
     "text": [
      "0\n",
      "0\n",
      "1\n",
      "1\n",
      "2\n",
      "2\n",
      "3\n",
      "3\n",
      "4\n",
      "4\n"
     ]
    },
    {
     "data": {
      "text/plain": [
       "tensor([-0.0098, -0.4901, -0.2828, -0.1897, -0.5348,  0.3960, -0.4660,  0.5195,\n",
       "         0.1807, -0.3768], grad_fn=<AddBackward0>)"
      ]
     },
     "execution_count": 30,
     "metadata": {},
     "output_type": "execute_result"
    }
   ],
   "source": [
    "model_list = MyModule()\n",
    "model_list.forward(torch.randn((10,)))"
   ]
  },
  {
   "cell_type": "markdown",
   "id": "886bfa57",
   "metadata": {},
   "source": [
    "ModuleDict"
   ]
  },
  {
   "cell_type": "code",
   "execution_count": 37,
   "id": "68ace86b",
   "metadata": {},
   "outputs": [
    {
     "name": "stdout",
     "output_type": "stream",
     "text": [
      "Conv2d(10, 10, kernel_size=(3, 3), stride=(1, 1))\n"
     ]
    },
    {
     "ename": "TypeError",
     "evalue": "'Conv2d' object is not subscriptable",
     "output_type": "error",
     "traceback": [
      "\u001b[0;31m---------------------------------------------------------------------------\u001b[0m",
      "\u001b[0;31mTypeError\u001b[0m                                 Traceback (most recent call last)",
      "Input \u001b[0;32mIn [37]\u001b[0m, in \u001b[0;36m<module>\u001b[0;34m\u001b[0m\n\u001b[1;32m     14\u001b[0m         \u001b[38;5;28;01mreturn\u001b[39;00m x\n\u001b[1;32m     16\u001b[0m model_dict \u001b[38;5;241m=\u001b[39m MyModule()\n\u001b[0;32m---> 17\u001b[0m results \u001b[38;5;241m=\u001b[39m \u001b[43mmodel_dict\u001b[49m\u001b[38;5;241;43m.\u001b[39;49m\u001b[43mforward\u001b[49m\u001b[43m(\u001b[49m\u001b[43mtorch\u001b[49m\u001b[38;5;241;43m.\u001b[39;49m\u001b[43mrandn\u001b[49m\u001b[43m(\u001b[49m\u001b[43m(\u001b[49m\u001b[38;5;241;43m100\u001b[39;49m\u001b[43m,\u001b[49m\u001b[38;5;241;43m1\u001b[39;49m\u001b[43m)\u001b[49m\u001b[43m)\u001b[49m\u001b[43m,\u001b[49m\u001b[38;5;124;43m'\u001b[39;49m\u001b[38;5;124;43mconv\u001b[39;49m\u001b[38;5;124;43m'\u001b[39;49m\n\u001b[1;32m     18\u001b[0m \u001b[43m                  \u001b[49m\u001b[43m,\u001b[49m\u001b[38;5;124;43m'\u001b[39;49m\u001b[38;5;124;43mlrelu\u001b[39;49m\u001b[38;5;124;43m'\u001b[39;49m\u001b[43m)\u001b[49m\n\u001b[1;32m     19\u001b[0m results\n",
      "Input \u001b[0;32mIn [37]\u001b[0m, in \u001b[0;36mMyModule.forward\u001b[0;34m(self, x, choice, act)\u001b[0m\n\u001b[1;32m     10\u001b[0m \u001b[38;5;28;01mdef\u001b[39;00m \u001b[38;5;21mforward\u001b[39m(\u001b[38;5;28mself\u001b[39m,x,choice,act):\n\u001b[1;32m     11\u001b[0m     \u001b[38;5;28mprint\u001b[39m(\u001b[38;5;28mself\u001b[39m\u001b[38;5;241m.\u001b[39mchoices[choice])\n\u001b[0;32m---> 12\u001b[0m     x \u001b[38;5;241m=\u001b[39m \u001b[38;5;28;43mself\u001b[39;49m\u001b[38;5;241;43m.\u001b[39;49m\u001b[43mchoices\u001b[49m\u001b[43m[\u001b[49m\u001b[43mchoice\u001b[49m\u001b[43m]\u001b[49m\u001b[43m[\u001b[49m\u001b[43mx\u001b[49m\u001b[43m]\u001b[49m\n\u001b[1;32m     13\u001b[0m     x \u001b[38;5;241m=\u001b[39m \u001b[38;5;28mself\u001b[39m\u001b[38;5;241m.\u001b[39mactivations[act][x]\n\u001b[1;32m     14\u001b[0m     \u001b[38;5;28;01mreturn\u001b[39;00m x\n",
      "\u001b[0;31mTypeError\u001b[0m: 'Conv2d' object is not subscriptable"
     ]
    }
   ],
   "source": [
    "class MyModule(nn.Module):\n",
    "    def __init__(self):\n",
    "        super(MyModule,self).__init__()\n",
    "        self.choices = nn.ModuleDict(\n",
    "        {'conv':nn.Conv2d(10,10,3),\n",
    "        'pool':nn.MaxPool2d(3)})\n",
    "        self.activations = nn.ModuleDict(\n",
    "        [['lrelu',nn.LeakyReLU()],['prelu',nn.PReLU()]]\n",
    "        )\n",
    "    def forward(self,x,choice,act):\n",
    "        print(self.choices[choice])\n",
    "        x = self.choices[choice][x]\n",
    "        x = self.activations[act][x]\n",
    "        return x\n",
    "\n",
    "model_dict = MyModule()\n",
    "\n",
    "results = model_dict.forward(torch.randn((100,1)),'conv'\n",
    "                  ,'lrelu')\n",
    "results\n",
    "        \n",
    "        "
   ]
  }
 ],
 "metadata": {
  "kernelspec": {
   "display_name": "Python 3 (ipykernel)",
   "language": "python",
   "name": "python3"
  },
  "language_info": {
   "codemirror_mode": {
    "name": "ipython",
    "version": 3
   },
   "file_extension": ".py",
   "mimetype": "text/x-python",
   "name": "python",
   "nbconvert_exporter": "python",
   "pygments_lexer": "ipython3",
   "version": "3.8.12"
  },
  "toc": {
   "base_numbering": 1,
   "nav_menu": {},
   "number_sections": true,
   "sideBar": true,
   "skip_h1_title": false,
   "title_cell": "Table of Contents",
   "title_sidebar": "Contents",
   "toc_cell": false,
   "toc_position": {},
   "toc_section_display": true,
   "toc_window_display": false
  }
 },
 "nbformat": 4,
 "nbformat_minor": 5
}
