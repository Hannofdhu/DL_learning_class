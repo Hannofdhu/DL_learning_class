{
 "cells": [
  {
   "cell_type": "markdown",
   "id": "ea05f0ce",
   "metadata": {},
   "source": [
    "# 第4题 葡萄酒分类预测"
   ]
  },
  {
   "cell_type": "markdown",
   "id": "c7d99db1",
   "metadata": {},
   "source": [
    "# 1准备数据"
   ]
  },
  {
   "cell_type": "markdown",
   "id": "a62dcfce",
   "metadata": {},
   "source": [
    "## 1.1 导入数据"
   ]
  },
  {
   "cell_type": "code",
   "execution_count": 147,
   "id": "dafd1189",
   "metadata": {},
   "outputs": [
    {
     "name": "stdout",
     "output_type": "stream",
     "text": [
      "(1599, 10) (1599, 1) \n",
      " (4898, 10) (4898, 1)\n"
     ]
    }
   ],
   "source": [
    "import pandas as pd\n",
    "import numpy as np\n",
    "winequality_red_data = pd.read_csv(\n",
    "    '/Users/richard/Desktop/研一下/深度学习/第二次作业/winequality-red.csv', sep=';').iloc[:, 1:11]\n",
    "winequality_red_label = pd.read_csv(\n",
    "    '/Users/richard/Desktop/研一下/深度学习/第二次作业/winequality-red.csv', sep=';').iloc[:, 11:12]\n",
    "\n",
    "winequality_white_data = pd.read_csv(\n",
    "    '/Users/richard/Desktop/研一下/深度学习/第二次作业/winequality-white.csv', sep=';').iloc[:, 1:11]\n",
    "winequality_white_label = pd.read_csv(\n",
    "    '/Users/richard/Desktop/研一下/深度学习/第二次作业/winequality-white.csv', sep=';').iloc[:, 11:12]\n",
    "print(winequality_red_data.shape,winequality_red_label.shape,'\\n',\n",
    "      winequality_white_data.shape,winequality_white_label.shape)"
   ]
  },
  {
   "cell_type": "markdown",
   "id": "b9bbf199",
   "metadata": {},
   "source": [
    "## 1.2 去除异常值"
   ]
  },
  {
   "cell_type": "code",
   "execution_count": 148,
   "id": "dbd0cbf0",
   "metadata": {},
   "outputs": [],
   "source": [
    "def remove_outliers(dataset,num) : #定义去除异常值函数,daset表示数据集，保留num个标准差内的数据,输出时需要删除数据的索引值\n",
    "    up_lim=dataset.mean()+num*dataset.std()\n",
    "    low_lim=dataset.mean()-num*dataset.std()\n",
    "    drop_list=[]\n",
    "    for i in range(len(dataset)):\n",
    "        if 'True' in str(dataset[i:i+1] < low_lim) or 'True' in str(dataset[i:i+1] > up_lim):\n",
    "            drop_list.append(i)\n",
    "    return drop_list"
   ]
  },
  {
   "cell_type": "code",
   "execution_count": 149,
   "id": "07e886e6",
   "metadata": {},
   "outputs": [
    {
     "ename": "NameError",
     "evalue": "name 'white_wash_washed' is not defined",
     "output_type": "error",
     "traceback": [
      "\u001b[0;31m---------------------------------------------------------------------------\u001b[0m",
      "\u001b[0;31mNameError\u001b[0m                                 Traceback (most recent call last)",
      "\u001b[0;32m/var/folders/j8/x9mvpxz517df56p_gqt_gvm40000gn/T/ipykernel_32952/3622637788.py\u001b[0m in \u001b[0;36m<module>\u001b[0;34m\u001b[0m\n\u001b[1;32m      8\u001b[0m \u001b[0;34m\u001b[0m\u001b[0m\n\u001b[1;32m      9\u001b[0m \u001b[0;31m#查看清洗后还剩多少样本和标签\u001b[0m\u001b[0;34m\u001b[0m\u001b[0;34m\u001b[0m\u001b[0;34m\u001b[0m\u001b[0m\n\u001b[0;32m---> 10\u001b[0;31m \u001b[0mprint\u001b[0m\u001b[0;34m(\u001b[0m\u001b[0mred_data_washed\u001b[0m\u001b[0;34m.\u001b[0m\u001b[0mshape\u001b[0m\u001b[0;34m,\u001b[0m\u001b[0mred_label_washed\u001b[0m\u001b[0;34m.\u001b[0m\u001b[0mshape\u001b[0m\u001b[0;34m,\u001b[0m\u001b[0mwhite_data_washed\u001b[0m\u001b[0;34m.\u001b[0m\u001b[0mshape\u001b[0m\u001b[0;34m,\u001b[0m \u001b[0mwhite_wash_washed\u001b[0m\u001b[0;34m.\u001b[0m\u001b[0mshape\u001b[0m\u001b[0;34m)\u001b[0m\u001b[0;34m\u001b[0m\u001b[0;34m\u001b[0m\u001b[0m\n\u001b[0m",
      "\u001b[0;31mNameError\u001b[0m: name 'white_wash_washed' is not defined"
     ]
    }
   ],
   "source": [
    "#删除数据\n",
    "\n",
    "red_data_washed=winequality_red_data.drop(index=remove_outliers(winequality_red_data,3))\n",
    "red_label_washed=winequality_red_label.drop(index=remove_outliers(winequality_red_data,3))\n",
    "\n",
    "white_data_washed=winequality_white_data.drop(index=remove_outliers(winequality_white_data,3))\n",
    "white_label_washed=winequality_white_label.drop(index=remove_outliers(winequality_white_data,3))\n",
    "\n",
    "#查看清洗后还剩多少样本和标签\n",
    "print(red_data_washed.shape,red_label_washed.shape,white_data_washed.shape, white_label_washed.shape)"
   ]
  },
  {
   "cell_type": "markdown",
   "id": "be1dbd14",
   "metadata": {},
   "source": [
    "## 1.3 标准化数据"
   ]
  },
  {
   "cell_type": "code",
   "execution_count": null,
   "id": "5e5bf931",
   "metadata": {},
   "outputs": [],
   "source": [
    "red_data_washed=(red_data_washed-red_data_washed.mean())/red_data_washed.std()\n",
    "white_data_washed=(white_data_washed-white_data_washed.mean())/white_data_washed.std()\n",
    "red_data_washed[0:3]\n",
    "white_data_washed[0:3]"
   ]
  },
  {
   "cell_type": "code",
   "execution_count": null,
   "id": "52d21cc4",
   "metadata": {},
   "outputs": [],
   "source": [
    "# 将标签值缩放到（0，1）之间\n",
    "red_label_washed = red_label_washed /10\n",
    "white_label_washed  = white_label_washed /10"
   ]
  },
  {
   "cell_type": "markdown",
   "id": "d44b76f5",
   "metadata": {},
   "source": [
    "## 1.4 拆分数据为训练数据，验证数据，测试数据"
   ]
  },
  {
   "cell_type": "code",
   "execution_count": null,
   "id": "58994f35",
   "metadata": {},
   "outputs": [],
   "source": [
    "red_train_data, red_val_data, red_test_data = red_data_washed[\n",
    "    0:900], red_data_washed[901:1200], red_data_washed[1200:]\n",
    "red_train_label, red_val_label, red_test_label = red_label_washed[\n",
    "    0:900], red_label_washed[901:1200], red_label_washed[1200:]"
   ]
  },
  {
   "cell_type": "code",
   "execution_count": null,
   "id": "17c746c6",
   "metadata": {},
   "outputs": [],
   "source": [
    "white_train_data, white_val_data, white_test_data = white_data_washed[\n",
    "    0:2700], white_data_washed[2701:3600], white_data_washed[3600:]\n",
    "white_train_label, white_val_label, white_test_label = white_label_washed[\n",
    "    0:2700], white_label_washed[2701:3600], white_label_washed[3600:]"
   ]
  },
  {
   "cell_type": "markdown",
   "id": "b64e44b4",
   "metadata": {},
   "source": [
    "# 2 构建神经网络、编译模型"
   ]
  },
  {
   "cell_type": "code",
   "execution_count": 150,
   "id": "5470a222",
   "metadata": {},
   "outputs": [],
   "source": [
    "from keras import models\n",
    "from keras import layers\n",
    "# 因为后续要建立多个模型，所以定义了一个函数\n",
    "def build_model():\n",
    "    model = models.Sequential()\n",
    "    model.add(layers.Dense(64, activation='relu',\n",
    "                       input_shape=(10,)))  # 中间层1 32个节点，激活函数relu；输入层为10维数据\n",
    "    model.add(layers.Dense(64, activation='relu'))  # 中间层2 32个节点，激活函数relu\n",
    "    # 输出层 1个节点 由于回归分析输出具体数字，不需要激活函数\n",
    "    model.add(layers.Dense(1, activation='sigmoid'))\n",
    "    model.compile(optimizer='adam', loss='mse',\n",
    "              metrics=['mae'])  # 编译模型，优化器:rmsprop，损失函数:mse ，检测指标:mae\n",
    "    return model"
   ]
  },
  {
   "cell_type": "code",
   "execution_count": 159,
   "id": "ab3f78bd",
   "metadata": {},
   "outputs": [],
   "source": [
    "model=build_model()\n",
    "his = model.fit(red_train_data, red_train_label, validation_data=(\n",
    "    red_val_data, red_val_label), batch_size=16, epochs=300, verbose=0)"
   ]
  },
  {
   "cell_type": "markdown",
   "id": "c3acfa56",
   "metadata": {},
   "source": [
    "## 2.1 优化模型，调整参数防止过拟合"
   ]
  },
  {
   "cell_type": "code",
   "execution_count": 152,
   "id": "64e53a48",
   "metadata": {},
   "outputs": [],
   "source": [
    "def smooth_curve(points, factor):\n",
    "    smoothed_points = []\n",
    "    for point in points:\n",
    "        if smoothed_points:  # 如果 smoothed_points 非空\n",
    "            previous = smoothed_points[-1]\n",
    "            smoothed_points.append(previous * factor + point * (1 - factor))\n",
    "        else:\n",
    "            smoothed_points.append(point)\n",
    "    return smoothed_points"
   ]
  },
  {
   "cell_type": "code",
   "execution_count": 160,
   "id": "06f6d746",
   "metadata": {},
   "outputs": [
    {
     "data": {
      "image/png": "[encoded data removed]",
      "text/plain": [
       "<Figure size 432x288 with 1 Axes>"
      ]
     },
     "metadata": {
      "needs_background": "light"
     },
     "output_type": "display_data"
    }
   ],
   "source": [
    "mae_history=his.history['val_mae']\n",
    "import matplotlib.pyplot as plt\n",
    "plt.plot(range(1, len(mae_history) + 1), smooth_curve(mae_history[:],0.9))\n",
    "plt.show()"
   ]
  },
  {
   "cell_type": "code",
   "execution_count": 161,
   "id": "316f239e",
   "metadata": {},
   "outputs": [
    {
     "data": {
      "image/png": "[encoded data removed]",
      "text/plain": [
       "<Figure size 432x288 with 1 Axes>"
      ]
     },
     "metadata": {
      "needs_background": "light"
     },
     "output_type": "display_data"
    }
   ],
   "source": [
    "#细化显示0～100区间\n",
    "plt.plot(range(1, 101), smooth_curve(mae_history[0:100],0.95))\n",
    "plt.show()\n",
    "#取epochs=30"
   ]
  },
  {
   "cell_type": "markdown",
   "id": "8ac43a0e",
   "metadata": {},
   "source": [
    "# 3 重新训练所有数据"
   ]
  },
  {
   "cell_type": "code",
   "execution_count": 157,
   "id": "bc34e24a",
   "metadata": {},
   "outputs": [
    {
     "data": {
      "text/plain": [
       "<keras.callbacks.History at 0x7fae5b897190>"
      ]
     },
     "execution_count": 157,
     "metadata": {},
     "output_type": "execute_result"
    }
   ],
   "source": [
    "model=build_model()\n",
    "model.fit(red_data_washed[0:1200], red_label_washed[0:1200], batch_size=16, epochs=30, verbose=0)"
   ]
  },
  {
   "cell_type": "code",
   "execution_count": 175,
   "id": "c15442a5",
   "metadata": {},
   "outputs": [
    {
     "name": "stdout",
     "output_type": "stream",
     "text": [
      "9/9 [==============================] - 0s 1ms/step - loss: 0.0155 - mae: 0.0990\n"
     ]
    }
   ],
   "source": [
    "# 评估模型性能 使用测试集评价模型\n",
    "model.evaluate(red_test_data,red_test_label)\n",
    "# 查看预测结果\n",
    "quality = model.predict(red_test_data)\n",
    "quality_predict = []\n",
    "for i in range(len(quality)):\n",
    "    quality_predict.append(float(str(quality[i]).strip('[]')[0:5]))\n",
    "for i in range(len(quality_predict)):\n",
    "    quality_predict[i]=round(quality_predict[i]*10)\n",
    "#print('预测值分别为：', quality_predict,)"
   ]
  },
  {
   "cell_type": "markdown",
   "id": "de83f52b",
   "metadata": {},
   "source": [
    "## 对白葡萄酒进行同样的操作"
   ]
  },
  {
   "cell_type": "code",
   "execution_count": 169,
   "id": "2244f6f8",
   "metadata": {},
   "outputs": [
    {
     "data": {
      "image/png": "[encoded data removed]",
      "text/plain": [
       "<Figure size 432x288 with 1 Axes>"
      ]
     },
     "metadata": {
      "needs_background": "light"
     },
     "output_type": "display_data"
    }
   ],
   "source": [
    "model=build_model()\n",
    "his = model.fit(white_train_data, white_train_label, validation_data=(\n",
    "    white_val_data, white_val_label), batch_size=16, epochs=300, verbose=0)\n",
    "mae_history=his.history['val_mae']\n",
    "plt.plot(range(1, len(mae_history) + 1), smooth_curve(mae_history[:],0.95))\n",
    "plt.show()"
   ]
  },
  {
   "cell_type": "code",
   "execution_count": 170,
   "id": "50b73674",
   "metadata": {},
   "outputs": [
    {
     "data": {
      "image/png": "[encoded data removed]",
      "text/plain": [
       "<Figure size 432x288 with 1 Axes>"
      ]
     },
     "metadata": {
      "needs_background": "light"
     },
     "output_type": "display_data"
    }
   ],
   "source": [
    "#细化显示0～100区间\n",
    "plt.plot(range(1, 101), smooth_curve(mae_history[0:100],0.95))\n",
    "plt.show()\n",
    "#取epochs=20"
   ]
  },
  {
   "cell_type": "code",
   "execution_count": 176,
   "id": "df989ce3",
   "metadata": {},
   "outputs": [
    {
     "name": "stdout",
     "output_type": "stream",
     "text": [
      "30/30 [==============================] - 0s 1ms/step - loss: 0.0225 - mae: 0.1182\n"
     ]
    }
   ],
   "source": [
    "model=build_model()\n",
    "model.fit(white_data_washed[0:2700], white_label_washed[0:2700], batch_size=16, epochs=20, verbose=0)\n",
    "# 评估模型性能 使用测试集评价模型\n",
    "model.evaluate(white_test_data,white_test_label)\n",
    "# 查看预测结果\n",
    "quality = model.predict(white_test_data)\n",
    "quality_predict = []\n",
    "for i in range(len(quality)):\n",
    "    quality_predict.append(float(str(quality[i]).strip('[]')[0:5]))\n",
    "for i in range(len(quality_predict)):\n",
    "    quality_predict[i]=round(quality_predict[i]*10)\n",
    "#print('预测值分别为：', quality_predict)"
   ]
  }
 ],
 "metadata": {
  "kernelspec": {
   "display_name": "Python 3 (ipykernel)",
   "language": "python",
   "name": "python3"
  },
  "language_info": {
   "codemirror_mode": {
    "name": "ipython",
    "version": 3
   },
   "file_extension": ".py",
   "mimetype": "text/x-python",
   "name": "python",
   "nbconvert_exporter": "python",
   "pygments_lexer": "ipython3",
   "version": "3.8.12"
  },
  "varInspector": {
   "cols": {
    "lenName": 16,
    "lenType": 16,
    "lenVar": 40
   },
   "kernels_config": {
    "python": {
     "delete_cmd_postfix": "",
     "delete_cmd_prefix": "del ",
     "library": "var_list.py",
     "varRefreshCmd": "print(var_dic_list())"
    },
    "r": {
     "delete_cmd_postfix": ") ",
     "delete_cmd_prefix": "rm(",
     "library": "var_list.r",
     "varRefreshCmd": "cat(var_dic_list()) "
    }
   },
   "types_to_exclude": [
    "module",
    "function",
    "builtin_function_or_method",
    "instance",
    "_Feature"
   ],
   "window_display": false
  }
 },
 "nbformat": 4,
 "nbformat_minor": 5
}
